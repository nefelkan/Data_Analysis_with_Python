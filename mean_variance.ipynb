{
 "metadata": {
  "language_info": {
   "codemirror_mode": {
    "name": "ipython",
    "version": 3
   },
   "file_extension": ".py",
   "mimetype": "text/x-python",
   "name": "python",
   "nbconvert_exporter": "python",
   "pygments_lexer": "ipython3",
   "version": "3.8.8"
  },
  "orig_nbformat": 2,
  "kernelspec": {
   "name": "python388jvsc74a57bd08f029cbb23b4d694894355b3cf60fc4da77b477c7e98df20fae13115d01d7773",
   "display_name": "Python 3.8.8 64-bit ('base': conda)"
  }
 },
 "nbformat": 4,
 "nbformat_minor": 2,
 "cells": [
  {
   "source": [
    "import numpy as np"
   ],
   "cell_type": "code",
   "metadata": {},
   "execution_count": 1,
   "outputs": []
  },
  {
   "cell_type": "code",
   "execution_count": 47,
   "metadata": {},
   "outputs": [],
   "source": [
    "list = [0,1,2,3,4,5,6,7,8]"
   ]
  },
  {
   "cell_type": "code",
   "execution_count": 48,
   "metadata": {},
   "outputs": [],
   "source": [
    "if (len(list) != 9):\n",
    "    raise ValueError(\"List must contain nine numbers.\")"
   ]
  },
  {
   "cell_type": "code",
   "execution_count": 49,
   "metadata": {},
   "outputs": [],
   "source": [
    "a = np.array(list)\n",
    "b = a.reshape(3,3)"
   ]
  },
  {
   "cell_type": "code",
   "execution_count": 50,
   "metadata": {},
   "outputs": [],
   "source": [
    "c = []\n",
    "c = [\n",
    "        [b.mean(axis=0) , b.mean(axis=1) , b.mean()],\n",
    "        [b.var(axis=0) , b.var(axis=1) , b.var()] , \n",
    "        [b.std(axis=0) , b.std(axis=1) , b.std()] , \n",
    "        [b.max(axis=0) , b.max(axis=1) , b.max()] , \n",
    "        [b.min(axis=0) , b.min(axis=1) , b.min()] , \n",
    "        [b.sum(axis=0) , b.sum(axis=1) , b.sum()]\n",
    "    ]"
   ]
  },
  {
   "cell_type": "code",
   "execution_count": 51,
   "metadata": {},
   "outputs": [],
   "source": [
    "calculations = {}\n",
    "calculations = {'mean' : [c[0][0].tolist() , c[0][1].tolist() , c[0][2].tolist()] , \n",
    "                'variance' : [c[1][0].tolist() , c[1][1].tolist() , c[1][2].tolist()] , \n",
    "                'standard deviation' : [c[2][0].tolist() , c[2][1].tolist() , c[2][2].tolist()] , \n",
    "                'max' : [c[3][0].tolist() , c[3][1].tolist() , c[3][2].tolist()] , \n",
    "                'min' : [c[4][0].tolist() , c[4][1].tolist() , c[4][2].tolist()] , \n",
    "                'sum' : [c[5][0].tolist() , c[5][1].tolist() , c[5][2].tolist()]\n",
    "                }"
   ]
  },
  {
   "cell_type": "code",
   "execution_count": 52,
   "metadata": {},
   "outputs": [
    {
     "output_type": "stream",
     "name": "stdout",
     "text": [
      "{'mean': [[3.0, 4.0, 5.0], [1.0, 4.0, 7.0], 4.0], 'variance': [[6.0, 6.0, 6.0], [0.6666666666666666, 0.6666666666666666, 0.6666666666666666], 6.666666666666667], 'standard deviation': [[2.449489742783178, 2.449489742783178, 2.449489742783178], [0.816496580927726, 0.816496580927726, 0.816496580927726], 2.581988897471611], 'max': [[6, 7, 8], [2, 5, 8], 8], 'min': [[0, 1, 2], [0, 3, 6], 0], 'sum': [[9, 12, 15], [3, 12, 21], 36]}\n"
     ]
    }
   ],
   "source": [
    "print(calculations)"
   ]
  },
  {
   "cell_type": "code",
   "execution_count": null,
   "metadata": {},
   "outputs": [],
   "source": []
  }
 ]
}