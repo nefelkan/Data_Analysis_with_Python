{
 "cells": [
  {
   "cell_type": "code",
   "execution_count": 1,
   "id": "33ecc70f",
   "metadata": {},
   "outputs": [],
   "source": [
    "import pandas as pd\n",
    "import numpy as np"
   ]
  },
  {
   "cell_type": "code",
   "execution_count": 2,
   "metadata": {},
   "outputs": [],
   "source": [
    "df = pd.read_csv('adult.data.csv')"
   ]
  },
  {
   "cell_type": "code",
   "execution_count": 3,
   "metadata": {},
   "outputs": [
    {
     "output_type": "execute_result",
     "data": {
      "text/plain": [
       "array(['White', 'Black', 'Asian-Pac-Islander', 'Amer-Indian-Eskimo',\n",
       "       'Other'], dtype=object)"
      ]
     },
     "metadata": {},
     "execution_count": 3
    }
   ],
   "source": [
    "items = df['race'].unique()\n",
    "items"
   ]
  },
  {
   "cell_type": "code",
   "execution_count": 4,
   "metadata": {},
   "outputs": [
    {
     "output_type": "execute_result",
     "data": {
      "text/plain": [
       "White                 27816\n",
       "Black                  3124\n",
       "Asian-Pac-Islander     1039\n",
       "Amer-Indian-Eskimo      311\n",
       "Other                   271\n",
       "Name: race, dtype: int64"
      ]
     },
     "metadata": {},
     "execution_count": 4
    }
   ],
   "source": [
    "race_count = df['race'].value_counts()\n",
    "race_count"
   ]
  },
  {
   "cell_type": "code",
   "execution_count": 5,
   "metadata": {},
   "outputs": [
    {
     "output_type": "execute_result",
     "data": {
      "text/plain": [
       "[27816, 3124, 1039, 311, 271]"
      ]
     },
     "metadata": {},
     "execution_count": 5
    }
   ],
   "source": [
    "race_count = []\n",
    "for item in items:\n",
    "    mask = (df['race'] == item)\n",
    "    race_count.append(df[mask]['race'].count())\n",
    "race_count"
   ]
  },
  {
   "cell_type": "code",
   "execution_count": 7,
   "metadata": {},
   "outputs": [
    {
     "output_type": "execute_result",
     "data": {
      "text/plain": [
       "39.43354749885268"
      ]
     },
     "metadata": {},
     "execution_count": 7
    }
   ],
   "source": [
    "mask = (df['sex'] == 'Male')\n",
    "average_age_men = df[mask]['age'].mean()\n",
    "average_age_men"
   ]
  },
  {
   "cell_type": "code",
   "execution_count": 8,
   "metadata": {},
   "outputs": [
    {
     "output_type": "execute_result",
     "data": {
      "text/plain": [
       "array(['Bachelors', 'HS-grad', '11th', 'Masters', '9th', 'Some-college',\n",
       "       'Assoc-acdm', 'Assoc-voc', '7th-8th', 'Doctorate', 'Prof-school',\n",
       "       '5th-6th', '10th', '1st-4th', 'Preschool', '12th'], dtype=object)"
      ]
     },
     "metadata": {},
     "execution_count": 8
    }
   ],
   "source": [
    "df['education'].unique()"
   ]
  },
  {
   "cell_type": "code",
   "execution_count": 9,
   "metadata": {},
   "outputs": [
    {
     "output_type": "execute_result",
     "data": {
      "text/plain": [
       "16.446055096587944"
      ]
     },
     "metadata": {},
     "execution_count": 9
    }
   ],
   "source": [
    "mask = (df['education'] == 'Bachelors')\n",
    "percentage_bachelors = ((df[mask]['education'].count()*100)/df.shape[0])\n",
    "percentage_bachelors"
   ]
  },
  {
   "cell_type": "code",
   "execution_count": 10,
   "metadata": {},
   "outputs": [
    {
     "output_type": "execute_result",
     "data": {
      "text/plain": [
       "7491"
      ]
     },
     "metadata": {},
     "execution_count": 10
    }
   ],
   "source": [
    "mask1 = ((df['education'] == 'Bachelors') | (df['education'] == 'Masters') | (df['education'] == 'Doctorate'))\n",
    "k = df[mask1]['salary'].count()\n",
    "k"
   ]
  },
  {
   "cell_type": "code",
   "execution_count": 11,
   "metadata": {},
   "outputs": [
    {
     "output_type": "execute_result",
     "data": {
      "text/plain": [
       "3486"
      ]
     },
     "metadata": {},
     "execution_count": 11
    }
   ],
   "source": [
    "mask = ((mask1) & (df['salary'] == '>50K'))\n",
    "m = df[mask]['education'].count()\n",
    "m"
   ]
  },
  {
   "cell_type": "code",
   "execution_count": 12,
   "metadata": {},
   "outputs": [
    {
     "output_type": "execute_result",
     "data": {
      "text/plain": [
       "46.535843011613935"
      ]
     },
     "metadata": {},
     "execution_count": 12
    }
   ],
   "source": [
    "higher_education_rich = (m*100)/k\n",
    "higher_education_rich"
   ]
  },
  {
   "cell_type": "code",
   "execution_count": 13,
   "metadata": {},
   "outputs": [
    {
     "output_type": "execute_result",
     "data": {
      "text/plain": [
       "25070"
      ]
     },
     "metadata": {},
     "execution_count": 13
    }
   ],
   "source": [
    "mask3 = ~mask1\n",
    "n = df[mask3]['education'].count()\n",
    "n"
   ]
  },
  {
   "cell_type": "code",
   "execution_count": 14,
   "metadata": {},
   "outputs": [
    {
     "output_type": "execute_result",
     "data": {
      "text/plain": [
       "4355"
      ]
     },
     "metadata": {},
     "execution_count": 14
    }
   ],
   "source": [
    "mask = (mask3 & (df['salary'] == '>50K'))\n",
    "m = df[mask]['education'].count()\n",
    "m"
   ]
  },
  {
   "cell_type": "code",
   "execution_count": 15,
   "metadata": {},
   "outputs": [
    {
     "output_type": "execute_result",
     "data": {
      "text/plain": [
       "17.3713601914639"
      ]
     },
     "metadata": {},
     "execution_count": 15
    }
   ],
   "source": [
    "lower_education_rich = (m*100)/n\n",
    "lower_education_rich"
   ]
  },
  {
   "cell_type": "code",
   "execution_count": 16,
   "metadata": {},
   "outputs": [
    {
     "output_type": "execute_result",
     "data": {
      "text/plain": [
       "1"
      ]
     },
     "metadata": {},
     "execution_count": 16
    }
   ],
   "source": [
    "min_work_hours = min(df['hours-per-week'])\n",
    "min_work_hours"
   ]
  },
  {
   "cell_type": "code",
   "execution_count": 17,
   "metadata": {},
   "outputs": [
    {
     "output_type": "execute_result",
     "data": {
      "text/plain": [
       "20"
      ]
     },
     "metadata": {},
     "execution_count": 17
    }
   ],
   "source": [
    "mask = (df['hours-per-week'] == min_work_hours)\n",
    "l = df[mask]['hours-per-week'].count()\n",
    "l"
   ]
  },
  {
   "cell_type": "code",
   "execution_count": 18,
   "metadata": {},
   "outputs": [
    {
     "output_type": "execute_result",
     "data": {
      "text/plain": [
       "2"
      ]
     },
     "metadata": {},
     "execution_count": 18
    }
   ],
   "source": [
    "mask = (mask & (df['salary'] == '>50K'))\n",
    "o = df[mask]['hours-per-week'].count()\n",
    "o"
   ]
  },
  {
   "cell_type": "code",
   "execution_count": 19,
   "metadata": {},
   "outputs": [
    {
     "output_type": "execute_result",
     "data": {
      "text/plain": [
       "10.0"
      ]
     },
     "metadata": {},
     "execution_count": 19
    }
   ],
   "source": [
    "rich_percentage = (o*100)/l\n",
    "rich_percentage"
   ]
  },
  {
   "cell_type": "code",
   "execution_count": 75,
   "metadata": {},
   "outputs": [
    {
     "output_type": "execute_result",
     "data": {
      "text/plain": [
       "United-States         29170\n",
       "Mexico                  643\n",
       "?                       583\n",
       "Philippines             198\n",
       "Germany                 137\n",
       "Canada                  121\n",
       "Puerto-Rico             114\n",
       "El-Salvador             106\n",
       "India                   100\n",
       "Cuba                     95\n",
       "England                  90\n",
       "Jamaica                  81\n",
       "South                    80\n",
       "China                    75\n",
       "Italy                    73\n",
       "Dominican-Republic       70\n",
       "Vietnam                  67\n",
       "Guatemala                64\n",
       "Japan                    62\n",
       "Poland                   60\n",
       "Columbia                 59\n",
       "Taiwan                   51\n",
       "Haiti                    44\n",
       "Iran                     43\n",
       "Portugal                 37\n",
       "Nicaragua                34\n",
       "Peru                     31\n",
       "France                   29\n",
       "Greece                   29\n",
       "Ecuador                  28\n",
       "Ireland                  24\n",
       "Hong                     20\n",
       "Trinadad&Tobago          19\n",
       "Cambodia                 19\n",
       "Laos                     18\n",
       "Thailand                 18\n",
       "Yugoslavia               16\n",
       "Honduras                 13\n",
       "Hungary                  13\n",
       "Scotland                 12\n",
       "Name: native-country, dtype: int64"
      ]
     },
     "metadata": {},
     "execution_count": 75
    }
   ],
   "source": [
    "mask5 = df['native-country'].isin(items)\n",
    "df[mask5]['native-country'].value_counts()"
   ]
  },
  {
   "cell_type": "code",
   "execution_count": 94,
   "metadata": {},
   "outputs": [
    {
     "output_type": "execute_result",
     "data": {
      "text/plain": [
       "United-States         7171\n",
       "?                      146\n",
       "Philippines             61\n",
       "Germany                 44\n",
       "India                   40\n",
       "Canada                  39\n",
       "Mexico                  33\n",
       "England                 30\n",
       "Cuba                    25\n",
       "Italy                   25\n",
       "Japan                   24\n",
       "Taiwan                  20\n",
       "China                   20\n",
       "Iran                    18\n",
       "South                   16\n",
       "Poland                  12\n",
       "Puerto-Rico             12\n",
       "France                  12\n",
       "Jamaica                 10\n",
       "El-Salvador              9\n",
       "Greece                   8\n",
       "Cambodia                 7\n",
       "Yugoslavia               6\n",
       "Hong                     6\n",
       "Vietnam                  5\n",
       "Ireland                  5\n",
       "Ecuador                  4\n",
       "Haiti                    4\n",
       "Portugal                 4\n",
       "Hungary                  3\n",
       "Guatemala                3\n",
       "Scotland                 3\n",
       "Thailand                 3\n",
       "Peru                     2\n",
       "Trinadad&Tobago          2\n",
       "Nicaragua                2\n",
       "Dominican-Republic       2\n",
       "Laos                     2\n",
       "Columbia                 2\n",
       "Honduras                 1\n",
       "Name: native-country, dtype: int64"
      ]
     },
     "metadata": {},
     "execution_count": 94
    }
   ],
   "source": [
    "mask6 = (df['salary'] == '>50K')\n",
    "max_find = df[mask6]['native-country'].value_counts()\n",
    "max_find"
   ]
  },
  {
   "cell_type": "code",
   "execution_count": 77,
   "metadata": {},
   "outputs": [
    {
     "output_type": "execute_result",
     "data": {
      "text/plain": [
       "array(['United-States', 'India', '?', 'South', 'Honduras', 'Canada',\n",
       "       'Iran', 'Mexico', 'Cambodia', 'Thailand', 'Taiwan', 'Portugal',\n",
       "       'England', 'China', 'Philippines', 'Jamaica', 'Germany', 'Japan',\n",
       "       'Italy', 'Dominican-Republic', 'Cuba', 'Greece', 'Peru',\n",
       "       'Guatemala', 'El-Salvador', 'France', 'Vietnam', 'Poland',\n",
       "       'Puerto-Rico', 'Ireland', 'Yugoslavia', 'Columbia', 'Haiti',\n",
       "       'Hong', 'Ecuador', 'Nicaragua', 'Trinadad&Tobago', 'Hungary',\n",
       "       'Scotland', 'Laos'], dtype=object)"
      ]
     },
     "metadata": {},
     "execution_count": 77
    }
   ],
   "source": [
    "items = df[mask6]['native-country'].unique()\n",
    "items"
   ]
  },
  {
   "cell_type": "code",
   "execution_count": 96,
   "metadata": {},
   "outputs": [
    {
     "output_type": "execute_result",
     "data": {
      "text/plain": [
       "?                     25.042882\n",
       "Cambodia              36.842105\n",
       "Canada                32.231405\n",
       "China                 26.666667\n",
       "Columbia               3.389831\n",
       "Cuba                  26.315789\n",
       "Dominican-Republic     2.857143\n",
       "Ecuador               14.285714\n",
       "El-Salvador            8.490566\n",
       "England               33.333333\n",
       "France                41.379310\n",
       "Germany               32.116788\n",
       "Greece                27.586207\n",
       "Guatemala              4.687500\n",
       "Haiti                  9.090909\n",
       "Honduras               7.692308\n",
       "Hong                  30.000000\n",
       "Hungary               23.076923\n",
       "India                 40.000000\n",
       "Iran                  41.860465\n",
       "Ireland               20.833333\n",
       "Italy                 34.246575\n",
       "Jamaica               12.345679\n",
       "Japan                 38.709677\n",
       "Laos                  11.111111\n",
       "Mexico                 5.132193\n",
       "Nicaragua              5.882353\n",
       "Peru                   6.451613\n",
       "Philippines           30.808081\n",
       "Poland                20.000000\n",
       "Portugal              10.810811\n",
       "Puerto-Rico           10.526316\n",
       "Scotland              25.000000\n",
       "South                 20.000000\n",
       "Taiwan                39.215686\n",
       "Thailand              16.666667\n",
       "Trinadad&Tobago       10.526316\n",
       "United-States         24.583476\n",
       "Vietnam                7.462687\n",
       "Yugoslavia            37.500000\n",
       "Name: native-country, dtype: float64"
      ]
     },
     "metadata": {},
     "execution_count": 96
    }
   ],
   "source": [
    "max_find2 = max_find*100/df[mask5]['native-country'].value_counts()"
   ]
  },
  {
   "cell_type": "code",
   "execution_count": 107,
   "metadata": {},
   "outputs": [
    {
     "output_type": "execute_result",
     "data": {
      "text/plain": [
       "'Iran'"
      ]
     },
     "metadata": {},
     "execution_count": 107
    }
   ],
   "source": [
    "highest_earning_country = max_find2.idxmax()\n",
    "highest_earning_country"
   ]
  },
  {
   "cell_type": "code",
   "execution_count": 108,
   "metadata": {},
   "outputs": [
    {
     "output_type": "execute_result",
     "data": {
      "text/plain": [
       "41.86046511627907"
      ]
     },
     "metadata": {},
     "execution_count": 108
    }
   ],
   "source": [
    "max(max_find2)"
   ]
  },
  {
   "cell_type": "code",
   "execution_count": 121,
   "metadata": {},
   "outputs": [
    {
     "output_type": "execute_result",
     "data": {
      "text/plain": [
       "'Prof-specialty'"
      ]
     },
     "metadata": {},
     "execution_count": 121
    }
   ],
   "source": [
    "mask = (df['salary'] == '>50K') & (df['native-country'] == 'India')\n",
    "df[mask]['occupation'].value_counts().idxmax()"
   ]
  },
  {
   "cell_type": "code",
   "execution_count": null,
   "metadata": {},
   "outputs": [],
   "source": []
  }
 ],
 "metadata": {
  "kernelspec": {
   "name": "python388jvsc74a57bd08f029cbb23b4d694894355b3cf60fc4da77b477c7e98df20fae13115d01d7773",
   "display_name": "Python 3.8.8 64-bit ('base': conda)"
  },
  "language_info": {
   "codemirror_mode": {
    "name": "ipython",
    "version": 3
   },
   "file_extension": ".py",
   "mimetype": "text/x-python",
   "name": "python",
   "nbconvert_exporter": "python",
   "pygments_lexer": "ipython3",
   "version": "3.8.8"
  }
 },
 "nbformat": 4,
 "nbformat_minor": 5
}